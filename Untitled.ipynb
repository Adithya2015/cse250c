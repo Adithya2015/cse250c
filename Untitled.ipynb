{
 "cells": [
  {
   "cell_type": "code",
   "execution_count": 5,
   "metadata": {
    "collapsed": false
   },
   "outputs": [],
   "source": [
    "import random\n",
    "import math\n",
    "import copy\n",
    "import numpy"
   ]
  },
  {
   "cell_type": "code",
   "execution_count": 6,
   "metadata": {
    "collapsed": true
   },
   "outputs": [],
   "source": [
    "\n",
    "\n",
    "def randvec(mu, sigma, size):\n",
    "    x = [[0,0,0,0,1] for i in range(size)]\n",
    "    y = [0 for i in range(size)]\n",
    "    \n",
    "    for j in range(size):\n",
    "        q = random.randint(0,1)\n",
    "        y[j] = (1-2*q)\n",
    "        for i in range(4):\n",
    "            x[j][i] = random.gauss((1-2*q)*mu,sigma)\n",
    "\n",
    "    return x,y\n"
   ]
  },
  {
   "cell_type": "code",
   "execution_count": 133,
   "metadata": {
    "collapsed": false
   },
   "outputs": [],
   "source": [
    "def dot(x,y):\n",
    "    r = 0.0\n",
    "    for i in range(len(x)):\n",
    "        r = r + x[i]*y[i]\n",
    "    return r\n",
    "    \n",
    "def grad(x,y,w):\n",
    "    z = math.exp(-y*(dot(w,x)))\n",
    "    scalar = -y*z/(1+z)\n",
    "    c = [t*scalar for t in x]\n",
    "    return numpy.array(c)\n",
    "    "
   ]
  },
  {
   "cell_type": "code",
   "execution_count": 53,
   "metadata": {
    "collapsed": false
   },
   "outputs": [],
   "source": [
    "def proj_1(w):\n",
    "    ans = [0.0 for i in range(5)]\n",
    "    ans = numpy.array(ans)\n",
    "    for i in range(5):\n",
    "        if(w[i] > 1):\n",
    "            ans[i] = 1\n",
    "        elif (w[i] <-1):\n",
    "            ans[i] = -1\n",
    "        else:\n",
    "            ans[i] = w[i]\n",
    "    return ans\n",
    "\n",
    "def proj_2(w):\n",
    "    t = 0.0\n",
    "    for i in range(5):\n",
    "        t  = t + w[i]*w[i];\n",
    "    t = math.sqrt(t)\n",
    "    if(t>1):\n",
    "        z = w/t\n",
    "    else:\n",
    "        z = w\n",
    "    return z"
   ]
  },
  {
   "cell_type": "code",
   "execution_count": 134,
   "metadata": {
    "collapsed": false
   },
   "outputs": [],
   "source": [
    "def log_error(w, T, L):\n",
    "    ans = 0.0\n",
    "    for i in range(len(T)):\n",
    "        ans = ans + math.log(1+math.exp(-L[i]*dot(w,T[i])))\n",
    "    return ans/len(T)\n",
    "\n",
    "def bin_error(w, T, L):\n",
    "    ans = 0.0\n",
    "    for i in range(len(T)):\n",
    "        if (L[i]*dot(w,T[i]) < 0):\n",
    "            ans = ans + 1\n",
    "    return ans*1.0/len(T)"
   ]
  },
  {
   "cell_type": "code",
   "execution_count": 135,
   "metadata": {
    "collapsed": false
   },
   "outputs": [],
   "source": [
    "# Test set\n",
    "sig = 0.05\n",
    "Te, Le = randvec(0.25, sig, 400) \n",
    "#print Te, Le\n"
   ]
  },
  {
   "cell_type": "code",
   "execution_count": 137,
   "metadata": {
    "collapsed": false
   },
   "outputs": [],
   "source": [
    "#scenario 1\n",
    "\n",
    "M = math.sqrt(5)\n",
    "rho = math.sqrt(5)"
   ]
  },
  {
   "cell_type": "code",
   "execution_count": 56,
   "metadata": {
    "collapsed": true
   },
   "outputs": [],
   "source": [
    "#scenario 2\n",
    "\n",
    "M = 1\n",
    "rho = math.sqrt(2)"
   ]
  },
  {
   "cell_type": "code",
   "execution_count": 138,
   "metadata": {
    "collapsed": false
   },
   "outputs": [],
   "source": [
    "means_1_log = numpy.array([0.0 for i in range(4)])\n",
    "means_1_bin = numpy.array([0.0 for i in range(4)])\n",
    "std_1_log = numpy.array([0.0 for i in range(4)])\n",
    "std_1_bin = numpy.array([0.0 for i in range(4)])\n",
    "n_vals = [50,100,500,1000]"
   ]
  },
  {
   "cell_type": "code",
   "execution_count": 139,
   "metadata": {
    "collapsed": false
   },
   "outputs": [],
   "source": [
    "iter = 30\n",
    "\n",
    "for k in range(4):\n",
    "    l_errors = numpy.array([0.0 for i in range(iter)])\n",
    "    b_errors = numpy.array([0.0 for i in range(iter)])\n",
    "\n",
    "    n = n_vals[k] # training set sizes = 50,100, 500, 1000\n",
    "    T = n\n",
    "    alpha = M*1.0/(rho*math.sqrt(T))\n",
    "\n",
    "    for count in range(iter):\n",
    "        Tr, Lr = randvec(0.25, sig, n) \n",
    "        w = [0.0 for i in range(5)]\n",
    "        w = numpy.array(w)\n",
    "        w_hat = w/2.0\n",
    "        for i in range(n):\n",
    "            wn = w - alpha*(grad(Tr[i],Lr[i],w))\n",
    "            wn = proj_1(wn)\n",
    "            w_hat = w_hat + wn/T\n",
    "            w = wn\n",
    "        l_errors[count] = log_error(w_hat,Te,Le)\n",
    "        b_errors[count] = bin_error(w_hat,Te,Le)\n",
    "    means_1_log[k] = numpy.mean(l_errors)\n",
    "    means_1_bin[k] = numpy.mean(b_errors)\n",
    "    std_1_log[k] = numpy.std(l_errors)\n",
    "    std_1_bin[k] = numpy.std(b_errors)"
   ]
  },
  {
   "cell_type": "code",
   "execution_count": 140,
   "metadata": {
    "collapsed": false
   },
   "outputs": [
    {
     "name": "stdout",
     "output_type": "stream",
     "text": [
      "[ 0.5191116   0.46759975  0.37665334  0.35742113]\n",
      "[ 0.01575  0.       0.       0.     ]\n",
      "[ 0.00719131  0.00369158  0.0006321   0.00050814]\n",
      "[ 0.0789967  0.         0.         0.       ]\n"
     ]
    }
   ],
   "source": [
    "print means_1_log\n",
    "print means_1_bin\n",
    "print std_1_log\n",
    "print std_1_bin"
   ]
  },
  {
   "cell_type": "code",
   "execution_count": 141,
   "metadata": {
    "collapsed": false
   },
   "outputs": [
    {
     "name": "stdout",
     "output_type": "stream",
     "text": [
      "[ 1.          1.          1.          1.         -0.12146735]\n"
     ]
    }
   ],
   "source": [
    "print w"
   ]
  },
  {
   "cell_type": "code",
   "execution_count": 131,
   "metadata": {
    "collapsed": false
   },
   "outputs": [
    {
     "data": {
      "text/plain": [
       "0.29235713869012381"
      ]
     },
     "execution_count": 131,
     "metadata": {},
     "output_type": "execute_result"
    }
   ],
   "source": [
    "Le[100]*dot(w,Te[100])"
   ]
  },
  {
   "cell_type": "code",
   "execution_count": 132,
   "metadata": {
    "collapsed": false
   },
   "outputs": [
    {
     "data": {
      "text/plain": [
       "[0.2923571386901238,\n",
       " 0.3235784442186982,\n",
       " 0.2801362699143686,\n",
       " 0.18017588104804222,\n",
       " 1]"
      ]
     },
     "execution_count": 132,
     "metadata": {},
     "output_type": "execute_result"
    }
   ],
   "source": [
    "Te[100]"
   ]
  },
  {
   "cell_type": "code",
   "execution_count": 3,
   "metadata": {
    "collapsed": false
   },
   "outputs": [
    {
     "name": "stdout",
     "output_type": "stream",
     "text": [
      "1\n"
     ]
    }
   ],
   "source": [
    "(a, b) = ((0,1),(2,3))\n",
    "print a[1]\n"
   ]
  },
  {
   "cell_type": "code",
   "execution_count": null,
   "metadata": {
    "collapsed": true
   },
   "outputs": [],
   "source": []
  }
 ],
 "metadata": {
  "kernelspec": {
   "display_name": "Python 2",
   "language": "python",
   "name": "python2"
  },
  "language_info": {
   "codemirror_mode": {
    "name": "ipython",
    "version": 2
   },
   "file_extension": ".py",
   "mimetype": "text/x-python",
   "name": "python",
   "nbconvert_exporter": "python",
   "pygments_lexer": "ipython2",
   "version": "2.7.10"
  }
 },
 "nbformat": 4,
 "nbformat_minor": 0
}
