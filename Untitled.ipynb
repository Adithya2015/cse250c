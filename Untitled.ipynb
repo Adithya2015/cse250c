{
 "cells": [
  {
   "cell_type": "code",
   "execution_count": 1,
   "metadata": {
    "collapsed": false
   },
   "outputs": [],
   "source": [
    "import random\n",
    "import math\n",
    "import copy\n",
    "import numpy\n",
    "import matplotlib.pyplot as plt"
   ]
  },
  {
   "cell_type": "code",
   "execution_count": 2,
   "metadata": {
    "collapsed": true
   },
   "outputs": [],
   "source": [
    "\n",
    "\n",
    "def randvec(mu, sigma, size):\n",
    "    x = [[0,0,0,0,1] for i in range(size)]\n",
    "    y = [0 for i in range(size)]\n",
    "    \n",
    "    for j in range(size):\n",
    "        q = random.randint(0,1)\n",
    "        y[j] = (1-2*q)\n",
    "        for i in range(4):\n",
    "            x[j][i] = random.gauss((1-2*q)*mu,sigma)\n",
    "\n",
    "    return x,y\n"
   ]
  },
  {
   "cell_type": "code",
   "execution_count": 3,
   "metadata": {
    "collapsed": false
   },
   "outputs": [],
   "source": [
    "def dot(x,y):\n",
    "    r = 0.0\n",
    "    for i in range(len(x)):\n",
    "        r = r + x[i]*y[i]\n",
    "    return r\n",
    "    \n",
    "def grad(x,y,w):\n",
    "    z = math.exp(-y*(dot(w,x)))\n",
    "    scalar = -y*z/(1+z)\n",
    "    c = [t*scalar for t in x]\n",
    "    return numpy.array(c)\n",
    "    "
   ]
  },
  {
   "cell_type": "code",
   "execution_count": 4,
   "metadata": {
    "collapsed": false
   },
   "outputs": [],
   "source": [
    "def proj_1(w):\n",
    "    ans = [0.0 for i in range(5)]\n",
    "    ans = numpy.array(ans)\n",
    "    for i in range(5):\n",
    "        if(w[i] > 1):\n",
    "            ans[i] = 1\n",
    "        elif (w[i] <-1):\n",
    "            ans[i] = -1\n",
    "        else:\n",
    "            ans[i] = w[i]\n",
    "    return ans\n",
    "\n",
    "def proj_2(w):\n",
    "    t = 0.0\n",
    "    for i in range(5):\n",
    "        t  = t + w[i]*w[i];\n",
    "    t = math.sqrt(t)\n",
    "    if(t>1):\n",
    "        z = w/t\n",
    "    else:\n",
    "        z = w\n",
    "    return z"
   ]
  },
  {
   "cell_type": "code",
   "execution_count": 5,
   "metadata": {
    "collapsed": false
   },
   "outputs": [],
   "source": [
    "def log_error(w, T, L):\n",
    "    ans = 0.0\n",
    "    for i in range(len(T)):\n",
    "        ans = ans + math.log(1+math.exp(-L[i]*dot(w,T[i])))\n",
    "    return ans/len(T)\n",
    "\n",
    "def bin_error(w, T, L):\n",
    "    ans = 0.0\n",
    "    for i in range(len(T)):\n",
    "        if (L[i]*dot(w,T[i]) < 0):\n",
    "            ans = ans + 1\n",
    "    return ans*1.0/len(T)"
   ]
  },
  {
   "cell_type": "code",
   "execution_count": 6,
   "metadata": {
    "collapsed": false
   },
   "outputs": [],
   "source": [
    "# Test set\n",
    "sig = 0.05\n",
    "Te, Le = randvec(0.25, sig, 400) \n",
    "#print Te, Le\n"
   ]
  },
  {
   "cell_type": "code",
   "execution_count": 7,
   "metadata": {
    "collapsed": false
   },
   "outputs": [],
   "source": [
    "#scenario 1\n",
    "\n",
    "M = math.sqrt(5)\n",
    "rho = math.sqrt(5)"
   ]
  },
  {
   "cell_type": "code",
   "execution_count": 8,
   "metadata": {
    "collapsed": true
   },
   "outputs": [],
   "source": [
    "#scenario 2\n",
    "\n",
    "M = 1\n",
    "rho = math.sqrt(2)"
   ]
  },
  {
   "cell_type": "code",
   "execution_count": 9,
   "metadata": {
    "collapsed": false
   },
   "outputs": [],
   "source": [
    "means_1_log = numpy.array([0.0 for i in range(4)])\n",
    "means_1_bin = numpy.array([0.0 for i in range(4)])\n",
    "std_1_log = numpy.array([0.0 for i in range(4)])\n",
    "std_1_bin = numpy.array([0.0 for i in range(4)])\n",
    "n_vals = [50,100,500,1000]"
   ]
  },
  {
   "cell_type": "code",
   "execution_count": 10,
   "metadata": {
    "collapsed": false
   },
   "outputs": [],
   "source": [
    "iter = 30\n",
    "\n",
    "for k in range(4):\n",
    "    l_errors = numpy.array([0.0 for i in range(iter)])\n",
    "    b_errors = numpy.array([0.0 for i in range(iter)])\n",
    "\n",
    "    n = n_vals[k] # training set sizes = 50,100, 500, 1000\n",
    "    T = n\n",
    "    alpha = M*1.0/(rho*math.sqrt(T))\n",
    "\n",
    "    for count in range(iter):\n",
    "        Tr, Lr = randvec(0.25, sig, n) \n",
    "        w = [0.0 for i in range(5)]\n",
    "        w = numpy.array(w)\n",
    "        w_hat = w/2.0\n",
    "        for i in range(n):\n",
    "            wn = w - alpha*(grad(Tr[i],Lr[i],w))\n",
    "            wn = proj_1(wn)\n",
    "            w_hat = w_hat + wn/T\n",
    "            w = wn\n",
    "        l_errors[count] = log_error(w_hat,Te,Le)\n",
    "        b_errors[count] = bin_error(w_hat,Te,Le)\n",
    "    means_1_log[k] = numpy.mean(l_errors)\n",
    "    means_1_bin[k] = numpy.mean(b_errors)\n",
    "    std_1_log[k] = numpy.std(l_errors)\n",
    "    std_1_bin[k] = numpy.std(b_errors)"
   ]
  },
  {
   "cell_type": "code",
   "execution_count": 11,
   "metadata": {
    "collapsed": false
   },
   "outputs": [
    {
     "name": "stdout",
     "output_type": "stream",
     "text": [
      "[ 0.56162029  0.51934711  0.40741382  0.37817893]\n",
      "[ 0.01975  0.       0.       0.     ]\n",
      "[ 0.00700851  0.00226586  0.0008901   0.00039981]\n",
      "[ 0.08960178  0.          0.          0.        ]\n"
     ]
    }
   ],
   "source": [
    "print means_1_log\n",
    "print means_1_bin\n",
    "print std_1_log\n",
    "print std_1_bin"
   ]
  },
  {
   "cell_type": "code",
   "execution_count": 12,
   "metadata": {
    "collapsed": false
   },
   "outputs": [
    {
     "name": "stdout",
     "output_type": "stream",
     "text": [
      "[ 1.          1.          1.          1.          0.03845816]\n"
     ]
    }
   ],
   "source": [
    "print w"
   ]
  },
  {
   "cell_type": "code",
   "execution_count": 13,
   "metadata": {
    "collapsed": false
   },
   "outputs": [
    {
     "data": {
      "text/plain": [
       "0.86850439931367596"
      ]
     },
     "execution_count": 13,
     "metadata": {},
     "output_type": "execute_result"
    }
   ],
   "source": [
    "Le[100]*dot(w,Te[100])"
   ]
  },
  {
   "cell_type": "code",
   "execution_count": 14,
   "metadata": {
    "collapsed": false
   },
   "outputs": [
    {
     "data": {
      "text/plain": [
       "[-0.2194902131180448,\n",
       " -0.21909859981902646,\n",
       " -0.239396207829466,\n",
       " -0.2289775407167684,\n",
       " 1]"
      ]
     },
     "execution_count": 14,
     "metadata": {},
     "output_type": "execute_result"
    }
   ],
   "source": [
    "Te[100]"
   ]
  },
  {
   "cell_type": "code",
   "execution_count": 15,
   "metadata": {
    "collapsed": false
   },
   "outputs": [
    {
     "name": "stdout",
     "output_type": "stream",
     "text": [
      "1\n"
     ]
    }
   ],
   "source": [
    "(a, b) = ((0,1),(2,3))\n",
    "print a[1]\n"
   ]
  },
  {
   "cell_type": "code",
   "execution_count": 16,
   "metadata": {
    "collapsed": true
   },
   "outputs": [],
   "source": [
    "def run(config, sig):\n",
    "\n",
    "    iter = 30\n",
    "    \n",
    "    M = config[0]\n",
    "    rho = config[1]\n",
    "    f = config[2]\n",
    "    \n",
    "    means_1_log = numpy.array([0.0 for i in range(4)])\n",
    "    means_1_bin = numpy.array([0.0 for i in range(4)])\n",
    "    std_1_log = numpy.array([0.0 for i in range(4)])\n",
    "    std_1_bin = numpy.array([0.0 for i in range(4)])\n",
    "    n_vals = [50,100,500,1000]\n",
    "    \n",
    "    Te, Le = randvec(0.25, sig, 400) \n",
    "    \n",
    "    for k in range(4):\n",
    "        l_errors = numpy.array([0.0 for i in range(iter)])\n",
    "        b_errors = numpy.array([0.0 for i in range(iter)])\n",
    "\n",
    "        n = n_vals[k] # training set sizes = 50,100, 500, 1000\n",
    "        T = n\n",
    "        alpha = M*1.0/(rho*math.sqrt(T))\n",
    "\n",
    "        for count in range(iter):\n",
    "            Tr, Lr = randvec(0.25, sig, n) \n",
    "            w = [0.0 for i in range(5)]\n",
    "            w = numpy.array(w)\n",
    "            w_hat = w/2.0\n",
    "            for i in range(n):\n",
    "                wn = w - alpha*(grad(Tr[i],Lr[i],w))\n",
    "                #wn = proj_1(wn)\n",
    "                wn = f(wn)\n",
    "                w_hat = w_hat + wn/T\n",
    "                w = wn\n",
    "            l_errors[count] = log_error(w_hat,Te,Le)\n",
    "            b_errors[count] = bin_error(w_hat,Te,Le)\n",
    "        means_1_log[k] = numpy.mean(l_errors)\n",
    "        means_1_bin[k] = numpy.mean(b_errors)\n",
    "        std_1_log[k] = numpy.std(l_errors)\n",
    "        std_1_bin[k] = numpy.std(b_errors)\n",
    "    return ((means_1_log, std_1_log),(means_1_bin,std_1_bin))\n",
    "    "
   ]
  },
  {
   "cell_type": "code",
   "execution_count": 17,
   "metadata": {
    "collapsed": false
   },
   "outputs": [],
   "source": [
    "# Running for different scenarios and sigmas\n",
    "# config = (M, rho ,f)\n",
    "config_1 = (math.sqrt(5), math.sqrt(5), proj_1)\n",
    "config_2 = (1, math.sqrt(2), proj_2)\n",
    "\n",
    "configs = [config_1, config_2]\n",
    "sigmas = [0.05, 0.25]\n",
    "\n",
    "out_logs = []\n",
    "out_bins = []\n",
    "\n",
    "for config in configs:\n",
    "    for sig in sigmas:\n",
    "        (out_log, out_bin) = run(config, sig)\n",
    "        out_logs.append(out_log)\n",
    "        out_bins.append(out_bin)\n"
   ]
  },
  {
   "cell_type": "code",
   "execution_count": 19,
   "metadata": {
    "collapsed": false
   },
   "outputs": [
    {
     "name": "stdout",
     "output_type": "stream",
     "text": [
      "[(array([ 0.51883367,  0.46875119,  0.37732521,  0.35780151]), array([ 0.00746269,  0.00272275,  0.00147451,  0.00057682])), (array([ 0.52830584,  0.48697443,  0.40113382,  0.38178233]), array([ 0.01012218,  0.00882581,  0.00227069,  0.00117306])), (array([ 0.56178347,  0.53715662,  0.50193947,  0.49384851]), array([ 0.00224057,  0.00339046,  0.0009422 ,  0.00032785])), (array([ 0.56885974,  0.54421176,  0.50969495,  0.50160426]), array([ 0.01058604,  0.00494836,  0.0017543 ,  0.00089371]))]\n"
     ]
    }
   ],
   "source": [
    "print out_logs"
   ]
  },
  {
   "cell_type": "code",
   "execution_count": 22,
   "metadata": {
    "collapsed": false
   },
   "outputs": [],
   "source": [
    "n_vals = [50,100,500,1000]\n",
    "\n",
    "# logistic error, all scenarios\n",
    "\n",
    "p1 = plt.errorbar(n_vals, out_logs[0][0], yerr=out_logs[0][1], xerr=None, ls = 'dashed', marker = 'o')\n",
    "p2 = plt.errorbar(n_vals, out_logs[1][0], yerr=out_logs[1][1], xerr=None, ls = 'solid', marker = 's')\n",
    "p3 = plt.errorbar(n_vals, out_logs[2][0], yerr=out_logs[2][1], xerr=None, ls = 'dashdot', marker = '^')\n",
    "p4 = plt.errorbar(n_vals, out_logs[3][0], yerr=out_logs[3][1], xerr=None, ls = 'dotted', marker = 'D')\n",
    "\n",
    "plt.figlegend((p1,p2,p3,p4),(\"Scenario 1, sigma=0.05\",\"Scenario 1, sigma=0.25\",\"Scenario 2, sigma=0.05\",\"Scenario 2, sigma=0.25\"),'upper right')\n",
    "\n",
    "#p1 = plt.errorbar(n_vals, means_1_log, yerr=std_1_log, xerr=None, ls = 'dashed', label = 'log error', marker = 'o')\n",
    "#p2 = plt.errorbar(n_vals, means_1_bin, yerr=std_1_bin, xerr=None, ls = 'solid',label = 'bin class error', marker = 'x')\n",
    "#plt.figlegend((p1,p2),(\"log error\",\"bin class error\"),'upper right')\n",
    "plt.xlim([0,1100])\n",
    "plt.xlabel('Number of training examples')\n",
    "plt.ylabel('Logistic Error')\n",
    "plt.suptitle('Expected Risk \\n All Plots', fontsize=14)\n",
    "plt.show()\n",
    "\n",
    "# plt.errorbar(n_vals, means_1_bin, yerr=std_1_bin, xerr=None, ls = 'solid',label = 'bin class error', marker = 'x')\n",
    "\n"
   ]
  },
  {
   "cell_type": "code",
   "execution_count": 24,
   "metadata": {
    "collapsed": true
   },
   "outputs": [],
   "source": [
    "# logistic error, scenario 1\n",
    "p1 = plt.errorbar(n_vals, out_logs[0][0], yerr=out_logs[0][1], xerr=None, ls = 'dashed', marker = 'o')\n",
    "p2 = plt.errorbar(n_vals, out_logs[1][0], yerr=out_logs[1][1], xerr=None, ls = 'solid', marker = 's')\n",
    "plt.figlegend((p1,p2),(\"Scenario 1, sigma = 0.05\",\"Scenario 1, sigma = 0.25\",\"Scenario 2, sigma = 0.05\"),'upper right')\n",
    "\n",
    "plt.xlim([0,1100])\n",
    "plt.xlabel('Number of training examples')\n",
    "plt.ylabel('Logistic Error')\n",
    "plt.suptitle('Expected Risk \\n Scenario 1', fontsize=14)\n",
    "plt.show()"
   ]
  },
  {
   "cell_type": "code",
   "execution_count": null,
   "metadata": {
    "collapsed": true
   },
   "outputs": [],
   "source": [
    "# logistic error, scenario 2\n",
    "\n",
    "p3 = plt.errorbar(n_vals, out_logs[2][0], yerr=out_logs[2][1], xerr=None, ls = 'dashdot', marker = '^')\n",
    "p4 = plt.errorbar(n_vals, out_logs[3][0], yerr=out_logs[3][1], xerr=None, ls = 'dotted', marker = 'D')\n",
    "plt.figlegend((p3,p4),(\"Scenario 2, sigma = 0.05\",\"Scenario 2, sigma = 0.25\"),'upper right')\n",
    "\n",
    "plt.xlim([0,1100])\n",
    "plt.xlabel('Number of training examples')\n",
    "plt.ylabel('Logistic Error')\n",
    "plt.suptitle('Expected Risk \\n Scenario 2', fontsize=14)\n",
    "plt.show()"
   ]
  },
  {
   "cell_type": "code",
   "execution_count": null,
   "metadata": {
    "collapsed": true
   },
   "outputs": [],
   "source": []
  },
  {
   "cell_type": "code",
   "execution_count": null,
   "metadata": {
    "collapsed": true
   },
   "outputs": [],
   "source": [
    "n_vals = [50,100,500,1000]\n",
    "\n",
    "# binary error, all scenarios\n",
    "\n",
    "p1 = plt.errorbar(n_vals, out_bins[0][0], yerr=out_bins[0][1], xerr=None, ls = 'dashed', marker = 'o')\n",
    "p2 = plt.errorbar(n_vals, out_bins[1][0], yerr=out_bins[1][1], xerr=None, ls = 'solid', marker = 's')\n",
    "p3 = plt.errorbar(n_vals, out_bins[2][0], yerr=out_bins[2][1], xerr=None, ls = 'dashdot', marker = '^')\n",
    "p4 = plt.errorbar(n_vals, out_bins[3][0], yerr=out_bins[3][1], xerr=None, ls = 'dotted', marker = 'D')\n",
    "\n",
    "plt.figlegend((p1,p2,p3,p4),(\"Scenario 1, sigma=0.05\",\"Scenario 1, sigma=0.25\",\"Scenario 2, sigma=0.05\",\"Scenario 2, sigma=0.25\"),'upper right')\n",
    "\n",
    "#p1 = plt.errorbar(n_vals, means_1_log, yerr=std_1_log, xerr=None, ls = 'dashed', label = 'log error', marker = 'o')\n",
    "#p2 = plt.errorbar(n_vals, means_1_bin, yerr=std_1_bin, xerr=None, ls = 'solid',label = 'bin class error', marker = 'x')\n",
    "#plt.figlegend((p1,p2),(\"log error\",\"bin class error\"),'upper right')\n",
    "plt.xlim([0,1100])\n",
    "plt.xlabel('Number of training examples')\n",
    "plt.ylabel('Binary Error')\n",
    "plt.suptitle('Expected Classification Error \\n All Plots', fontsize=14)\n",
    "plt.show()\n",
    "\n",
    "# plt.errorbar(n_vals, means_1_bin, yerr=std_1_bin, xerr=None, ls = 'solid',label = 'bin class error', marker = 'x')"
   ]
  },
  {
   "cell_type": "code",
   "execution_count": null,
   "metadata": {
    "collapsed": true
   },
   "outputs": [],
   "source": [
    "# logistic error, scenario 1\n",
    "p1 = plt.errorbar(n_vals, out_bins[0][0], yerr=out_bins[0][1], xerr=None, ls = 'dashed', marker = 'o')\n",
    "p2 = plt.errorbar(n_vals, out_bins[1][0], yerr=out_bins[1][1], xerr=None, ls = 'solid', marker = 's')\n",
    "plt.figlegend((p1,p2),(\"Scenario 1, sigma = 0.05\",\"Scenario 1, sigma = 0.25\",\"Scenario 2, sigma = 0.05\"),'upper right')\n",
    "\n",
    "plt.xlim([0,1100])\n",
    "plt.xlabel('Number of training examples')\n",
    "plt.ylabel('Binary Error')\n",
    "plt.suptitle('Expected Classification Error \\n Scenario 1', fontsize=14)\n",
    "plt.show()"
   ]
  },
  {
   "cell_type": "code",
   "execution_count": null,
   "metadata": {
    "collapsed": true
   },
   "outputs": [],
   "source": [
    "# logistic error, scenario 2\n",
    "\n",
    "p3 = plt.errorbar(n_vals, out_bins[2][0], yerr=out_bins[2][1], xerr=None, ls = 'dashdot', marker = '^')\n",
    "p4 = plt.errorbar(n_vals, out_bins[3][0], yerr=out_bins[3][1], xerr=None, ls = 'dotted', marker = 'D')\n",
    "plt.figlegend((p3,p4),(\"Scenario 2, sigma = 0.05\",\"Scenario 2, sigma = 0.25\"),'upper right')\n",
    "\n",
    "plt.xlim([0,1100])\n",
    "plt.xlabel('Number of training examples')\n",
    "plt.ylabel('Binary Error')\n",
    "plt.suptitle('Expected Classification Error \\n Scenario 2', fontsize=14)\n",
    "plt.show()"
   ]
  }
 ],
 "metadata": {
  "kernelspec": {
   "display_name": "Python 2",
   "language": "python",
   "name": "python2"
  },
  "language_info": {
   "codemirror_mode": {
    "name": "ipython",
    "version": 2
   },
   "file_extension": ".py",
   "mimetype": "text/x-python",
   "name": "python",
   "nbconvert_exporter": "python",
   "pygments_lexer": "ipython2",
   "version": "2.7.10"
  }
 },
 "nbformat": 4,
 "nbformat_minor": 0
}
